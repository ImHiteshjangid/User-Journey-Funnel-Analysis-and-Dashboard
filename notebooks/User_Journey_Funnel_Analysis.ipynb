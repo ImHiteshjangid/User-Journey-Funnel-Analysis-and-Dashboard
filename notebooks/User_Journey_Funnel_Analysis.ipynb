{
 "cells": [
  {
   "cell_type": "markdown",
   "id": "957776326f6d1434",
   "metadata": {},
   "source": [
    "## ***Project Title:***\n",
    "#### User Journey Funnel Analysis"
   ]
  },
  {
   "cell_type": "markdown",
   "id": "a7645bc400a77f26",
   "metadata": {},
   "source": [
    "This project analyzes the user journey of customers from a Brazilian e-commerce platform, using the public Olist dataset. The focus is on understanding the drop-off points in the customer funnel — from order placement to delivery and review. The goal is to identify potential UX bottlenecks and business insights that can improve conversion rates and customer satisfaction."
   ]
  },
  {
   "cell_type": "markdown",
   "id": "dfd440d9b2d5666e",
   "metadata": {},
   "source": [
    "### **Project Objective**\n",
    "Analyze and quantify each stage of the customer journey.\n",
    "\n",
    "Identify drop-off stages in the funnel.\n",
    "\n",
    "Explore average delivery time and review behavior.\n",
    "\n",
    "Prepare the data for dashboard in Power BI."
   ]
  },
  {
   "cell_type": "markdown",
   "id": "0297ac2c",
   "metadata": {},
   "source": [
    "## Step 1: Importing all Required Libraries for this analysis"
   ]
  },
  {
   "cell_type": "code",
   "execution_count": 1,
   "id": "42718ca1f9728641",
   "metadata": {
    "ExecuteTime": {
     "end_time": "2025-05-09T12:26:43.914203Z",
     "start_time": "2025-05-09T12:26:43.860524Z"
    }
   },
   "outputs": [],
   "source": [
    "import pandas as pd\n",
    "import numpy as np\n",
    "import matplotlib.pyplot as plt\n",
    "import seaborn as sns\n",
    "import os\n",
    "\n",
    "%matplotlib inline"
   ]
  },
  {
   "cell_type": "markdown",
   "id": "babce9cf",
   "metadata": {},
   "source": [
    "## Step 2: Loading Data Files"
   ]
  },
  {
   "cell_type": "code",
   "execution_count": 2,
   "id": "a567cb3b77751e7a",
   "metadata": {
    "ExecuteTime": {
     "end_time": "2025-05-09T12:27:19.948868400Z",
     "start_time": "2025-05-09T12:26:44.091084Z"
    }
   },
   "outputs": [],
   "source": [
    "# Data folder path\n",
    "data_path = 'C:/Users/hites/OneDrive/Desktop/projects/User-Journey-Funnel-Analysis-and-Dashboard/data'\n",
    "\n",
    "# Loading required CSVs\n",
    "customers = pd.read_csv(os.path.join(data_path, 'olist_customers_dataset.csv'))\n",
    "orders = pd.read_csv(os.path.join(data_path, 'olist_orders_dataset.csv'))\n",
    "order_items = pd.read_csv(os.path.join(data_path, 'olist_order_items_dataset.csv'))\n",
    "products = pd.read_csv(os.path.join(data_path, 'olist_products_dataset.csv'))\n",
    "payments = pd.read_csv(os.path.join(data_path, 'olist_order_payments_dataset.csv'))\n",
    "reviews = pd.read_csv(os.path.join(data_path, 'olist_order_reviews_dataset.csv'))"
   ]
  },
  {
   "cell_type": "markdown",
   "id": "b7dffdc3",
   "metadata": {},
   "source": [
    "## Step 3: Basic Data Exploration"
   ]
  },
  {
   "cell_type": "markdown",
   "id": "17d3ffaf",
   "metadata": {},
   "source": [
    "- ### View the structure of orders dataframe"
   ]
  },
  {
   "cell_type": "code",
   "execution_count": 3,
   "id": "d28e446001048834",
   "metadata": {
    "ExecuteTime": {
     "end_time": "2025-05-09T12:26:54.698444Z",
     "start_time": "2025-05-09T12:26:53.497381Z"
    }
   },
   "outputs": [
    {
     "name": "stdout",
     "output_type": "stream",
     "text": [
      "<class 'pandas.core.frame.DataFrame'>\n",
      "RangeIndex: 99441 entries, 0 to 99440\n",
      "Data columns (total 8 columns):\n",
      " #   Column                         Non-Null Count  Dtype \n",
      "---  ------                         --------------  ----- \n",
      " 0   order_id                       99441 non-null  object\n",
      " 1   customer_id                    99441 non-null  object\n",
      " 2   order_status                   99441 non-null  object\n",
      " 3   order_purchase_timestamp       99441 non-null  object\n",
      " 4   order_approved_at              99281 non-null  object\n",
      " 5   order_delivered_carrier_date   97658 non-null  object\n",
      " 6   order_delivered_customer_date  96476 non-null  object\n",
      " 7   order_estimated_delivery_date  99441 non-null  object\n",
      "dtypes: object(8)\n",
      "memory usage: 6.1+ MB\n"
     ]
    },
    {
     "data": {
      "text/plain": [
       "order_id                            0\n",
       "customer_id                         0\n",
       "order_status                        0\n",
       "order_purchase_timestamp            0\n",
       "order_approved_at                 160\n",
       "order_delivered_carrier_date     1783\n",
       "order_delivered_customer_date    2965\n",
       "order_estimated_delivery_date       0\n",
       "dtype: int64"
      ]
     },
     "execution_count": 3,
     "metadata": {},
     "output_type": "execute_result"
    }
   ],
   "source": [
    "orders.head()\n",
    "orders.info()\n",
    "orders.isnull().sum()"
   ]
  },
  {
   "cell_type": "code",
   "execution_count": 4,
   "id": "94542ecfc59645b3",
   "metadata": {
    "ExecuteTime": {
     "end_time": "2025-05-09T12:26:56.023492Z",
     "start_time": "2025-05-09T12:26:55.131595Z"
    }
   },
   "outputs": [
    {
     "name": "stdout",
     "output_type": "stream",
     "text": [
      "<class 'pandas.core.frame.DataFrame'>\n",
      "RangeIndex: 103886 entries, 0 to 103885\n",
      "Data columns (total 5 columns):\n",
      " #   Column                Non-Null Count   Dtype  \n",
      "---  ------                --------------   -----  \n",
      " 0   order_id              103886 non-null  object \n",
      " 1   payment_sequential    103886 non-null  int64  \n",
      " 2   payment_type          103886 non-null  object \n",
      " 3   payment_installments  103886 non-null  int64  \n",
      " 4   payment_value         103886 non-null  float64\n",
      "dtypes: float64(1), int64(2), object(2)\n",
      "memory usage: 4.0+ MB\n"
     ]
    },
    {
     "data": {
      "text/plain": [
       "order_id                0\n",
       "payment_sequential      0\n",
       "payment_type            0\n",
       "payment_installments    0\n",
       "payment_value           0\n",
       "dtype: int64"
      ]
     },
     "execution_count": 4,
     "metadata": {},
     "output_type": "execute_result"
    }
   ],
   "source": [
    "payments.head()\n",
    "payments.info()\n",
    "payments.isnull().sum()"
   ]
  },
  {
   "cell_type": "code",
   "execution_count": 5,
   "id": "5e3cc28ceaf60bac",
   "metadata": {
    "ExecuteTime": {
     "end_time": "2025-05-09T12:26:58.811801Z",
     "start_time": "2025-05-09T12:26:57.845331Z"
    }
   },
   "outputs": [
    {
     "name": "stdout",
     "output_type": "stream",
     "text": [
      "<class 'pandas.core.frame.DataFrame'>\n",
      "RangeIndex: 99224 entries, 0 to 99223\n",
      "Data columns (total 7 columns):\n",
      " #   Column                   Non-Null Count  Dtype \n",
      "---  ------                   --------------  ----- \n",
      " 0   review_id                99224 non-null  object\n",
      " 1   order_id                 99224 non-null  object\n",
      " 2   review_score             99224 non-null  int64 \n",
      " 3   review_comment_title     11568 non-null  object\n",
      " 4   review_comment_message   40977 non-null  object\n",
      " 5   review_creation_date     99224 non-null  object\n",
      " 6   review_answer_timestamp  99224 non-null  object\n",
      "dtypes: int64(1), object(6)\n",
      "memory usage: 5.3+ MB\n"
     ]
    },
    {
     "data": {
      "text/plain": [
       "review_id                      0\n",
       "order_id                       0\n",
       "review_score                   0\n",
       "review_comment_title       87656\n",
       "review_comment_message     58247\n",
       "review_creation_date           0\n",
       "review_answer_timestamp        0\n",
       "dtype: int64"
      ]
     },
     "execution_count": 5,
     "metadata": {},
     "output_type": "execute_result"
    }
   ],
   "source": [
    "reviews.head()\n",
    "reviews.info()\n",
    "reviews.isnull().sum()"
   ]
  },
  {
   "cell_type": "markdown",
   "id": "6db00d32",
   "metadata": {
    "jp-MarkdownHeadingCollapsed": true
   },
   "source": [
    "#### NOTE: We will do not drop rows with missing values as these represent important funnel drop-off points (e.g., order not approved, not delivered).\n",
    "#### We will retain them and use `.isna()` to mark whether a customer passed each funnel stage."
   ]
  },
  {
   "cell_type": "markdown",
   "id": "37b95ce5",
   "metadata": {},
   "source": [
    "## Step 4: Converting Columns to Datetime Format\n",
    "##### Converting object columns related to time into datetime objects for accurate time calculations"
   ]
  },
  {
   "cell_type": "code",
   "execution_count": 6,
   "id": "7adf4feb9b1ce636",
   "metadata": {
    "ExecuteTime": {
     "end_time": "2025-05-09T12:27:01.287102Z",
     "start_time": "2025-05-09T12:27:00.051828Z"
    }
   },
   "outputs": [],
   "source": [
    "orders['order_purchase_timestamp'] = pd.to_datetime(orders['order_purchase_timestamp'])\n",
    "orders['order_approved_at'] = pd.to_datetime(orders['order_approved_at'])\n",
    "orders['order_delivered_carrier_date'] = pd.to_datetime(orders['order_delivered_carrier_date'])\n",
    "orders['order_delivered_customer_date'] = pd.to_datetime(orders['order_delivered_customer_date'])\n",
    "orders['order_estimated_delivery_date'] = pd.to_datetime(orders['order_estimated_delivery_date'])\n",
    "reviews['review_creation_date'] = pd.to_datetime(reviews['review_creation_date'])\n",
    "reviews['review_answer_timestamp'] = pd.to_datetime(reviews['review_answer_timestamp'])"
   ]
  },
  {
   "cell_type": "markdown",
   "id": "2daf4b3d",
   "metadata": {},
   "source": [
    "## Step 5: Merging Datasets to Create a Full User Journey Table"
   ]
  },
  {
   "cell_type": "code",
   "execution_count": 7,
   "id": "21ef5f98bcf06def",
   "metadata": {
    "ExecuteTime": {
     "end_time": "2025-05-09T12:27:03.648079Z",
     "start_time": "2025-05-09T12:27:02.220578Z"
    }
   },
   "outputs": [],
   "source": [
    "order_payment = pd.merge(orders, payments, on='order_id', how='left')\n",
    "order_review = pd.merge(order_payment, reviews, on='order_id', how='left')\n",
    "order_full = pd.merge(order_review, customers[['customer_id', 'customer_state']], on='customer_id', how='left')"
   ]
  },
  {
   "cell_type": "markdown",
   "id": "7d7d8e2d",
   "metadata": {},
   "source": [
    "## Step 6: Defining Funnel Stages Based on Available Data\n"
   ]
  },
  {
   "cell_type": "code",
   "execution_count": 8,
   "id": "8ec1e9fa41a2380c",
   "metadata": {
    "ExecuteTime": {
     "end_time": "2025-05-09T12:27:05.597311Z",
     "start_time": "2025-05-09T12:27:05.332068Z"
    }
   },
   "outputs": [],
   "source": [
    "stage_1 = order_full[~order_full['order_approved_at'].isna()]\n",
    "stage_2 = stage_1[~stage_1['payment_value'].isna()]\n",
    "stage_3 = stage_2[~stage_2['order_delivered_customer_date'].isna()]\n",
    "stage_4 = stage_3[~stage_3['review_score'].isna()]"
   ]
  },
  {
   "cell_type": "markdown",
   "id": "fe0b3f8c",
   "metadata": {},
   "source": [
    "## Step 7: Creating a Funnel Data Summary to Summarize how many users reached each stage"
   ]
  },
  {
   "cell_type": "code",
   "execution_count": 9,
   "id": "ef5e4eb369b6cf9e",
   "metadata": {
    "ExecuteTime": {
     "end_time": "2025-05-09T12:27:06.372120Z",
     "start_time": "2025-05-09T12:27:06.275200Z"
    }
   },
   "outputs": [
    {
     "name": "stdout",
     "output_type": "stream",
     "text": [
      "             Stage   Users  Drop Off %\n",
      "0     Order Placed  104302   -0.000000\n",
      "1     Payment Made  104301    0.000959\n",
      "2  Order Delivered  101309    2.868621\n",
      "3     Review Given  100633    0.667265\n"
     ]
    }
   ],
   "source": [
    "funnel_data = {\n",
    "    'Stage': ['Order Placed', 'Payment Made', 'Order Delivered', 'Review Given'],\n",
    "    'Users': [\n",
    "        len(stage_1),\n",
    "        len(stage_2),\n",
    "        len(stage_3),\n",
    "        len(stage_4)\n",
    "    ]\n",
    "}\n",
    "\n",
    "funnel_df = pd.DataFrame(funnel_data)\n",
    "funnel_df['Drop Off %'] = funnel_df['Users'].pct_change().fillna(0) * -100\n",
    "print(funnel_df)\n"
   ]
  },
  {
   "cell_type": "markdown",
   "id": "f2668443-abb5-4119-8f9c-fc1a7e810ba8",
   "metadata": {},
   "source": [
    "### Funnel Analysis Insights\n",
    "- The funnel shows how users progress from placing an order to reviewing it.\n",
    "- Significant drop-offs can indicate friction points in the shopping experience:\n",
    "  - If many users place orders but don’t complete payment, payment UX may need attention.\n",
    "  - A drop from payment to delivery may highlight shipping/logistics issues.\n",
    "  - A low number of reviews may indicate poor post-purchase engagement.\n",
    "\n",
    "We'll visualize this below for a clearer picture."
   ]
  },
  {
   "cell_type": "markdown",
   "id": "f118bb0f",
   "metadata": {},
   "source": [
    "## Step 8: Visualizing the User Journey Funnel"
   ]
  },
  {
   "cell_type": "code",
   "execution_count": 10,
   "id": "c17a33fbc4891797",
   "metadata": {
    "ExecuteTime": {
     "end_time": "2025-05-09T12:27:09.022249Z",
     "start_time": "2025-05-09T12:27:06.714343Z"
    }
   },
   "outputs": [
    {
     "data": {
      "image/png": "[encoded data removed]",
      "text/plain": [
       "<Figure size 1000x600 with 1 Axes>"
      ]
     },
     "metadata": {},
     "output_type": "display_data"
    }
   ],
   "source": [
    "plt.figure(figsize=(10, 6))\n",
    "sns.set_style(\"whitegrid\")\n",
    "\n",
    "barplot = sns.barplot(\n",
    "    x='Users', y='Stage', data=funnel_df,\n",
    "    palette='Blues_d', hue='Stage', dodge=False, legend=False\n",
    ")\n",
    "\n",
    "for index, row in funnel_df.iterrows():\n",
    "    plt.text(row['Users'] + 2, index, f\"{row['Users']:,}\", va='center', fontsize=10)\n",
    "\n",
    "plt.title(\"User Journey Funnel\", fontsize=16, fontweight='bold')\n",
    "plt.xlabel(\"Number of Users\", fontsize=12)\n",
    "plt.ylabel(\"Stage\", fontsize=12)\n",
    "plt.tight_layout()\n",
    "plt.show()"
   ]
  },
  {
   "cell_type": "markdown",
   "id": "0c69d57c",
   "metadata": {},
   "source": [
    "## Step 9: Analyzing Delivery and Review Timelines"
   ]
  },
  {
   "cell_type": "code",
   "execution_count": 14,
   "id": "bcb78e73250b88ce",
   "metadata": {
    "ExecuteTime": {
     "end_time": "2025-05-09T12:27:09.691855Z",
     "start_time": "2025-05-09T12:27:09.181848Z"
    }
   },
   "outputs": [],
   "source": [
    "order_full['delivery_time_days'] = (\n",
    "    order_full['order_delivered_customer_date'] - order_full['order_purchase_timestamp']\n",
    ").dt.days\n",
    "\n",
    "order_full['review_delay_days'] = (\n",
    "    order_full['review_creation_date'] - order_full['order_delivered_customer_date']\n",
    ").dt.days"
   ]
  },
  {
   "cell_type": "markdown",
   "id": "d928a8c5",
   "metadata": {},
   "source": [
    "## Step 10: Exporting the Final Data for Dashboard Use"
   ]
  },
  {
   "cell_type": "code",
   "execution_count": 12,
   "id": "9d9ef3dba2c5414b",
   "metadata": {
    "ExecuteTime": {
     "end_time": "2025-05-09T12:27:19.789079Z",
     "start_time": "2025-05-09T12:27:10.287772Z"
    }
   },
   "outputs": [],
   "source": [
    "order_full['stage_1_order_placed'] = ~order_full['order_approved_at'].isna()\n",
    "order_full['stage_2_payment_made'] = order_full['stage_1_order_placed'] & ~order_full['payment_value'].isna()\n",
    "order_full['stage_3_delivered'] = order_full['stage_2_payment_made'] & ~order_full['order_delivered_customer_date'].isna()\n",
    "order_full['stage_4_review_given'] = order_full['stage_3_delivered'] & ~order_full['review_score'].isna()\n",
    "\n",
    "export_cols = [\n",
    "    'order_id', 'customer_id', 'customer_state', 'order_purchase_timestamp',\n",
    "    'order_approved_at', 'order_delivered_customer_date', 'payment_value',\n",
    "    'review_score', 'stage_1_order_placed', 'stage_2_payment_made',\n",
    "    'stage_3_delivered', 'stage_4_review_given',\n",
    "    'delivery_time_days', 'review_delay_days'\n",
    "]\n",
    "\n",
    "order_full[export_cols].to_csv('../exports/order_user_journey.csv', index=False)\n"
   ]
  },
  {
   "cell_type": "markdown",
   "id": "da19f1a5-f685-498e-af55-ed5530f4d8e3",
   "metadata": {},
   "source": [
    "## Final Summary\n",
    "- We successfully mapped the user journey from order placement to review.\n",
    "- Funnel analysis highlighted major drop-off points which can guide UX or process improvements.\n",
    "- Data was cleaned, merged, and exported for use in a **Power BI dashboard** to enhance business decision-making."
   ]
  }
 ],
 "metadata": {
  "kernelspec": {
   "display_name": "Python 3 (ipykernel)",
   "language": "python",
   "name": "python3"
  },
  "language_info": {
   "codemirror_mode": {
    "name": "ipython",
    "version": 3
   },
   "file_extension": ".py",
   "mimetype": "text/x-python",
   "name": "python",
   "nbconvert_exporter": "python",
   "pygments_lexer": "ipython3",
   "version": "3.13.1"
  }
 },
 "nbformat": 4,
 "nbformat_minor": 5
}
